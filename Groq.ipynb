{
  "nbformat": 4,
  "nbformat_minor": 0,
  "metadata": {
    "colab": {
      "provenance": [],
      "gpuType": "T4"
    },
    "kernelspec": {
      "name": "python3",
      "display_name": "Python 3"
    },
    "language_info": {
      "name": "python"
    },
    "accelerator": "GPU"
  },
  "cells": [
    {
      "cell_type": "code",
      "source": [
        "!pip install groq"
      ],
      "metadata": {
        "id": "jZuK8OWZn7cW"
      },
      "execution_count": null,
      "outputs": []
    },
    {
      "cell_type": "code",
      "execution_count": 3,
      "metadata": {
        "colab": {
          "base_uri": "https://localhost:8080/"
        },
        "id": "YHcS9xEbSXG-",
        "outputId": "40438e18-6a44-42d2-8c6a-314964c2e004"
      },
      "outputs": [
        {
          "output_type": "stream",
          "name": "stdout",
          "text": [
            "What an exciting question! There are several ways to travel around the world, and the best method for you depends on your budget, time constraints, interests, and personal preferences. Here are some popular options to consider:\n",
            "\n",
            "1. **Backpacking**: This is a popular way to travel, especially among young travelers. Backpacking involves carrying your belongings in a backpack and staying in budget-friendly accommodations like hostels and guesthouses.\n",
            "2. **Flights**: Flying is often the fastest way to cover long distances. You can book flights in advance to get the best deals, and consider using budget airlines or flight comparison websites.\n",
            "3. **Train travel**: Trains can be a comfortable and scenic way to travel, especially in countries like Europe, Japan, and India. Consider booking in advance for the best prices.\n",
            "4. **Bus travel**: Bus travel is a budget-friendly option, and many companies offer routes across continents. Look for reputable companies like FlixBus, Greyhound, or Turmio.\n",
            "5. **Cruise ships**: If you enjoy the ocean and want to visit multiple destinations without worrying about transportation, consider taking a cruise. Many cruise lines offer global itineraries.\n",
            "6. **Camping and road trips**: For a more adventurous and flexible trip, consider camping and road tripping. This can be a great way to see the countryside and experience local culture.\n",
            "7. **Motorcycle travel**: For the adventurous type, traveling by motorcycle can be an exhilarating experience. You'll need to plan carefully, as motorcycle travel requires specific gear and routes.\n",
            "8. **Bicycle travel**: Another adventurous option, cycling allows you to see the world at your own pace. Bring your own bike or rent one locally.\n",
            "9. **Travel by boat**: For a more relaxing journey, consider taking a boat or ferry between destinations. This can be a great way to see marine life and enjoy the ocean views.\n",
            "10. **Combine modes**: Feel free to mix and match these options to create the perfect trip for you. For example, you could fly to your destination, then take a train or bus to your next stop.\n",
            "\n",
            "When choosing the best way to travel, consider the following factors:\n",
            "\n",
            "* **Time constraints**: If you're short on time, flying or taking a cruise might be the best option.\n",
            "* **Budget**: Backpacking, bus travel, or camping can be the most budget-friendly choices.\n",
            "* **Interest**: If you want to see as many destinations as possible, flying or taking a cruise might be the way to go. If you prefer a more immersive experience, consider backpacking or camping.\n",
            "* **Comfort level**: If you prefer comfort, opt for flights, trains, or luxury cruise ships.\n",
            "\n",
            "Remember to research visa requirements, travel restrictions, and health concerns before embarking on your journey. Happy travels!"
          ]
        }
      ],
      "source": [
        "from groq import Groq\n",
        "\n",
        "# Assuming the API key is required here\n",
        "API_KEY = \"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\"  # Replace with your actual API key\n",
        "client = Groq(api_key=API_KEY)\n",
        "\n",
        "completion = client.chat.completions.create(\n",
        "    model=\"llama3-8b-8192\",\n",
        "    messages=[\n",
        "        {\n",
        "            \"role\": \"user\",\n",
        "            \"content\": \"whats the best way to travel around the world\"\n",
        "        }\n",
        "    ],\n",
        "    temperature=1,\n",
        "    max_tokens=1024,\n",
        "    top_p=1,\n",
        "    stream=True,\n",
        "    stop=None,\n",
        ")\n",
        "\n",
        "for chunk in completion:\n",
        "    print(chunk.choices[0].delta.content or \"\", end=\"\")\n"
      ]
    },
    {
      "cell_type": "code",
      "source": [],
      "metadata": {
        "id": "57_MeIKEZA4O"
      },
      "execution_count": null,
      "outputs": []
    }
  ]
}